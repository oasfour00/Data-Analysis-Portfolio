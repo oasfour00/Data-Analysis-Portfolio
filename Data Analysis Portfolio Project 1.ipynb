{
 "cells": [
  {
   "cell_type": "markdown",
   "metadata": {},
   "source": [
    "Contacts: \n",
    "Email: asfour.omar9@gmail.com\n",
    "LinkedIn: https://www.linkedin.com/in/omar-asfour/\n",
    "GitHub: https://github.com/oasfour00\n",
    "\n",
    "Hello!\n",
    "\n",
    "Thank you for taking the time to review my project.\n",
    "This is an exploratory data analysis and visualisation of failed banks. The data is from this website https://www.fdic.gov/resources/resolutions/bank-failures/failed-bank-list/\n",
    "This project is mainly to show an example of the kind of work that I can do, but it is also a great way to practice what I have been learning and provide useful data.\n",
    "\n",
    "Please let me know what you think of this small project!"
   ]
  },
  {
   "cell_type": "code",
   "execution_count": 12,
   "metadata": {},
   "outputs": [
    {
     "data": {
      "text/html": [
       "<div>\n",
       "<style scoped>\n",
       "    .dataframe tbody tr th:only-of-type {\n",
       "        vertical-align: middle;\n",
       "    }\n",
       "\n",
       "    .dataframe tbody tr th {\n",
       "        vertical-align: top;\n",
       "    }\n",
       "\n",
       "    .dataframe thead th {\n",
       "        text-align: right;\n",
       "    }\n",
       "</style>\n",
       "<table border=\"1\" class=\"dataframe\">\n",
       "  <thead>\n",
       "    <tr style=\"text-align: right;\">\n",
       "      <th></th>\n",
       "      <th>Bank NameBank</th>\n",
       "      <th>CityCity</th>\n",
       "      <th>StateSt</th>\n",
       "      <th>CertCert</th>\n",
       "      <th>Acquiring InstitutionAI</th>\n",
       "      <th>Closing DateClosing</th>\n",
       "      <th>FundFund</th>\n",
       "    </tr>\n",
       "  </thead>\n",
       "  <tbody>\n",
       "    <tr>\n",
       "      <th>0</th>\n",
       "      <td>Almena State Bank</td>\n",
       "      <td>Almena</td>\n",
       "      <td>KS</td>\n",
       "      <td>15426</td>\n",
       "      <td>Equity Bank</td>\n",
       "      <td>October 23, 2020</td>\n",
       "      <td>10538</td>\n",
       "    </tr>\n",
       "    <tr>\n",
       "      <th>1</th>\n",
       "      <td>First City Bank of Florida</td>\n",
       "      <td>Fort Walton Beach</td>\n",
       "      <td>FL</td>\n",
       "      <td>16748</td>\n",
       "      <td>United Fidelity Bank, fsb</td>\n",
       "      <td>October 16, 2020</td>\n",
       "      <td>10537</td>\n",
       "    </tr>\n",
       "    <tr>\n",
       "      <th>2</th>\n",
       "      <td>The First State Bank</td>\n",
       "      <td>Barboursville</td>\n",
       "      <td>WV</td>\n",
       "      <td>14361</td>\n",
       "      <td>MVB Bank, Inc.</td>\n",
       "      <td>April 3, 2020</td>\n",
       "      <td>10536</td>\n",
       "    </tr>\n",
       "    <tr>\n",
       "      <th>3</th>\n",
       "      <td>Ericson State Bank</td>\n",
       "      <td>Ericson</td>\n",
       "      <td>NE</td>\n",
       "      <td>18265</td>\n",
       "      <td>Farmers and Merchants Bank</td>\n",
       "      <td>February 14, 2020</td>\n",
       "      <td>10535</td>\n",
       "    </tr>\n",
       "    <tr>\n",
       "      <th>4</th>\n",
       "      <td>City National Bank of New Jersey</td>\n",
       "      <td>Newark</td>\n",
       "      <td>NJ</td>\n",
       "      <td>21111</td>\n",
       "      <td>Industrial Bank</td>\n",
       "      <td>November 1, 2019</td>\n",
       "      <td>10534</td>\n",
       "    </tr>\n",
       "    <tr>\n",
       "      <th>...</th>\n",
       "      <td>...</td>\n",
       "      <td>...</td>\n",
       "      <td>...</td>\n",
       "      <td>...</td>\n",
       "      <td>...</td>\n",
       "      <td>...</td>\n",
       "      <td>...</td>\n",
       "    </tr>\n",
       "    <tr>\n",
       "      <th>558</th>\n",
       "      <td>Superior Bank, FSB</td>\n",
       "      <td>Hinsdale</td>\n",
       "      <td>IL</td>\n",
       "      <td>32646</td>\n",
       "      <td>Superior Federal, FSB</td>\n",
       "      <td>July 27, 2001</td>\n",
       "      <td>6004</td>\n",
       "    </tr>\n",
       "    <tr>\n",
       "      <th>559</th>\n",
       "      <td>Malta National Bank</td>\n",
       "      <td>Malta</td>\n",
       "      <td>OH</td>\n",
       "      <td>6629</td>\n",
       "      <td>North Valley Bank</td>\n",
       "      <td>May 3, 2001</td>\n",
       "      <td>4648</td>\n",
       "    </tr>\n",
       "    <tr>\n",
       "      <th>560</th>\n",
       "      <td>First Alliance Bank &amp; Trust Co.</td>\n",
       "      <td>Manchester</td>\n",
       "      <td>NH</td>\n",
       "      <td>34264</td>\n",
       "      <td>Southern New Hampshire Bank &amp; Trust</td>\n",
       "      <td>February 2, 2001</td>\n",
       "      <td>4647</td>\n",
       "    </tr>\n",
       "    <tr>\n",
       "      <th>561</th>\n",
       "      <td>National State Bank of Metropolis</td>\n",
       "      <td>Metropolis</td>\n",
       "      <td>IL</td>\n",
       "      <td>3815</td>\n",
       "      <td>Banterra Bank of Marion</td>\n",
       "      <td>December 14, 2000</td>\n",
       "      <td>4646</td>\n",
       "    </tr>\n",
       "    <tr>\n",
       "      <th>562</th>\n",
       "      <td>Bank of Honolulu</td>\n",
       "      <td>Honolulu</td>\n",
       "      <td>HI</td>\n",
       "      <td>21029</td>\n",
       "      <td>Bank of the Orient</td>\n",
       "      <td>October 13, 2000</td>\n",
       "      <td>4645</td>\n",
       "    </tr>\n",
       "  </tbody>\n",
       "</table>\n",
       "<p>563 rows × 7 columns</p>\n",
       "</div>"
      ],
      "text/plain": [
       "                         Bank NameBank           CityCity StateSt  CertCert  \\\n",
       "0                    Almena State Bank             Almena      KS     15426   \n",
       "1           First City Bank of Florida  Fort Walton Beach      FL     16748   \n",
       "2                 The First State Bank      Barboursville      WV     14361   \n",
       "3                   Ericson State Bank            Ericson      NE     18265   \n",
       "4     City National Bank of New Jersey             Newark      NJ     21111   \n",
       "..                                 ...                ...     ...       ...   \n",
       "558                 Superior Bank, FSB           Hinsdale      IL     32646   \n",
       "559                Malta National Bank              Malta      OH      6629   \n",
       "560    First Alliance Bank & Trust Co.         Manchester      NH     34264   \n",
       "561  National State Bank of Metropolis         Metropolis      IL      3815   \n",
       "562                   Bank of Honolulu           Honolulu      HI     21029   \n",
       "\n",
       "                 Acquiring InstitutionAI Closing DateClosing  FundFund  \n",
       "0                            Equity Bank    October 23, 2020     10538  \n",
       "1              United Fidelity Bank, fsb    October 16, 2020     10537  \n",
       "2                         MVB Bank, Inc.       April 3, 2020     10536  \n",
       "3             Farmers and Merchants Bank   February 14, 2020     10535  \n",
       "4                        Industrial Bank    November 1, 2019     10534  \n",
       "..                                   ...                 ...       ...  \n",
       "558                Superior Federal, FSB       July 27, 2001      6004  \n",
       "559                    North Valley Bank         May 3, 2001      4648  \n",
       "560  Southern New Hampshire Bank & Trust    February 2, 2001      4647  \n",
       "561              Banterra Bank of Marion   December 14, 2000      4646  \n",
       "562                   Bank of the Orient    October 13, 2000      4645  \n",
       "\n",
       "[563 rows x 7 columns]"
      ]
     },
     "execution_count": 12,
     "metadata": {},
     "output_type": "execute_result"
    }
   ],
   "source": [
    "#Importing all the libraries we need, as well as importing our data and assigning them to variables\n",
    "\n",
    "import pandas as pd\n",
    "import seaborn as sns\n",
    "import plotly.graph_objects as go\n",
    "from plotly.offline import download_plotlyjs,init_notebook_mode,plot,iplot\n",
    "from IPython.display import HTML, Image\n",
    "HTML('''<style>.CodeMirror{min-width:100% !important;}</style>''')\n",
    "\n",
    "#There are two data variables because I want to take columns from each data source to combine them into one dataframe\n",
    "\n",
    "data = pd.read_html('https://www.fdic.gov/resources/resolutions/bank-failures/failed-bank-list/')\n",
    "data2 = pd.read_csv('C:\\\\Users\\\\Omar\\\\Downloads\\\\bank-data.csv')\n",
    "\n",
    "failed_banks_df = data[0]\n",
    "failed_banks_df"
   ]
  },
  {
   "cell_type": "code",
   "execution_count": 3,
   "metadata": {},
   "outputs": [
    {
     "data": {
      "text/html": [
       "<div>\n",
       "<style scoped>\n",
       "    .dataframe tbody tr th:only-of-type {\n",
       "        vertical-align: middle;\n",
       "    }\n",
       "\n",
       "    .dataframe tbody tr th {\n",
       "        vertical-align: top;\n",
       "    }\n",
       "\n",
       "    .dataframe thead th {\n",
       "        text-align: right;\n",
       "    }\n",
       "</style>\n",
       "<table border=\"1\" class=\"dataframe\">\n",
       "  <thead>\n",
       "    <tr style=\"text-align: right;\">\n",
       "      <th></th>\n",
       "      <th>BANK_NAME</th>\n",
       "      <th>CITY</th>\n",
       "      <th>STATE</th>\n",
       "      <th>CERT</th>\n",
       "      <th>ACQUIRING_INST</th>\n",
       "      <th>CLOSE_DATE</th>\n",
       "      <th>FUND_NUM</th>\n",
       "    </tr>\n",
       "  </thead>\n",
       "  <tbody>\n",
       "    <tr>\n",
       "      <th>0</th>\n",
       "      <td>Almena State Bank</td>\n",
       "      <td>Almena</td>\n",
       "      <td>KS</td>\n",
       "      <td>15426</td>\n",
       "      <td>Equity Bank</td>\n",
       "      <td>October 23, 2020</td>\n",
       "      <td>10538</td>\n",
       "    </tr>\n",
       "    <tr>\n",
       "      <th>1</th>\n",
       "      <td>First City Bank of Florida</td>\n",
       "      <td>Fort Walton Beach</td>\n",
       "      <td>FL</td>\n",
       "      <td>16748</td>\n",
       "      <td>United Fidelity Bank, fsb</td>\n",
       "      <td>October 16, 2020</td>\n",
       "      <td>10537</td>\n",
       "    </tr>\n",
       "    <tr>\n",
       "      <th>2</th>\n",
       "      <td>The First State Bank</td>\n",
       "      <td>Barboursville</td>\n",
       "      <td>WV</td>\n",
       "      <td>14361</td>\n",
       "      <td>MVB Bank, Inc.</td>\n",
       "      <td>April 3, 2020</td>\n",
       "      <td>10536</td>\n",
       "    </tr>\n",
       "    <tr>\n",
       "      <th>3</th>\n",
       "      <td>Ericson State Bank</td>\n",
       "      <td>Ericson</td>\n",
       "      <td>NE</td>\n",
       "      <td>18265</td>\n",
       "      <td>Farmers and Merchants Bank</td>\n",
       "      <td>February 14, 2020</td>\n",
       "      <td>10535</td>\n",
       "    </tr>\n",
       "    <tr>\n",
       "      <th>4</th>\n",
       "      <td>City National Bank of New Jersey</td>\n",
       "      <td>Newark</td>\n",
       "      <td>NJ</td>\n",
       "      <td>21111</td>\n",
       "      <td>Industrial Bank</td>\n",
       "      <td>November 1, 2019</td>\n",
       "      <td>10534</td>\n",
       "    </tr>\n",
       "    <tr>\n",
       "      <th>...</th>\n",
       "      <td>...</td>\n",
       "      <td>...</td>\n",
       "      <td>...</td>\n",
       "      <td>...</td>\n",
       "      <td>...</td>\n",
       "      <td>...</td>\n",
       "      <td>...</td>\n",
       "    </tr>\n",
       "    <tr>\n",
       "      <th>558</th>\n",
       "      <td>Superior Bank, FSB</td>\n",
       "      <td>Hinsdale</td>\n",
       "      <td>IL</td>\n",
       "      <td>32646</td>\n",
       "      <td>Superior Federal, FSB</td>\n",
       "      <td>July 27, 2001</td>\n",
       "      <td>6004</td>\n",
       "    </tr>\n",
       "    <tr>\n",
       "      <th>559</th>\n",
       "      <td>Malta National Bank</td>\n",
       "      <td>Malta</td>\n",
       "      <td>OH</td>\n",
       "      <td>6629</td>\n",
       "      <td>North Valley Bank</td>\n",
       "      <td>May 3, 2001</td>\n",
       "      <td>4648</td>\n",
       "    </tr>\n",
       "    <tr>\n",
       "      <th>560</th>\n",
       "      <td>First Alliance Bank &amp; Trust Co.</td>\n",
       "      <td>Manchester</td>\n",
       "      <td>NH</td>\n",
       "      <td>34264</td>\n",
       "      <td>Southern New Hampshire Bank &amp; Trust</td>\n",
       "      <td>February 2, 2001</td>\n",
       "      <td>4647</td>\n",
       "    </tr>\n",
       "    <tr>\n",
       "      <th>561</th>\n",
       "      <td>National State Bank of Metropolis</td>\n",
       "      <td>Metropolis</td>\n",
       "      <td>IL</td>\n",
       "      <td>3815</td>\n",
       "      <td>Banterra Bank of Marion</td>\n",
       "      <td>December 14, 2000</td>\n",
       "      <td>4646</td>\n",
       "    </tr>\n",
       "    <tr>\n",
       "      <th>562</th>\n",
       "      <td>Bank of Honolulu</td>\n",
       "      <td>Honolulu</td>\n",
       "      <td>HI</td>\n",
       "      <td>21029</td>\n",
       "      <td>Bank of the Orient</td>\n",
       "      <td>October 13, 2000</td>\n",
       "      <td>4645</td>\n",
       "    </tr>\n",
       "  </tbody>\n",
       "</table>\n",
       "<p>563 rows × 7 columns</p>\n",
       "</div>"
      ],
      "text/plain": [
       "                             BANK_NAME               CITY STATE   CERT  \\\n",
       "0                    Almena State Bank             Almena    KS  15426   \n",
       "1           First City Bank of Florida  Fort Walton Beach    FL  16748   \n",
       "2                 The First State Bank      Barboursville    WV  14361   \n",
       "3                   Ericson State Bank            Ericson    NE  18265   \n",
       "4     City National Bank of New Jersey             Newark    NJ  21111   \n",
       "..                                 ...                ...   ...    ...   \n",
       "558                 Superior Bank, FSB           Hinsdale    IL  32646   \n",
       "559                Malta National Bank              Malta    OH   6629   \n",
       "560    First Alliance Bank & Trust Co.         Manchester    NH  34264   \n",
       "561  National State Bank of Metropolis         Metropolis    IL   3815   \n",
       "562                   Bank of Honolulu           Honolulu    HI  21029   \n",
       "\n",
       "                          ACQUIRING_INST         CLOSE_DATE  FUND_NUM  \n",
       "0                            Equity Bank   October 23, 2020     10538  \n",
       "1              United Fidelity Bank, fsb   October 16, 2020     10537  \n",
       "2                         MVB Bank, Inc.      April 3, 2020     10536  \n",
       "3             Farmers and Merchants Bank  February 14, 2020     10535  \n",
       "4                        Industrial Bank   November 1, 2019     10534  \n",
       "..                                   ...                ...       ...  \n",
       "558                Superior Federal, FSB      July 27, 2001      6004  \n",
       "559                    North Valley Bank        May 3, 2001      4648  \n",
       "560  Southern New Hampshire Bank & Trust   February 2, 2001      4647  \n",
       "561              Banterra Bank of Marion  December 14, 2000      4646  \n",
       "562                   Bank of the Orient   October 13, 2000      4645  \n",
       "\n",
       "[563 rows x 7 columns]"
      ]
     },
     "execution_count": 3,
     "metadata": {},
     "output_type": "execute_result"
    }
   ],
   "source": [
    "#Renaming the columns to make them easier to read at a glance, as well as to help with calling them later.\n",
    "fbdf = failed_banks_df.rename(columns = {'Bank NameBank' : 'BANK_NAME', 'CityCity':'CITY', 'StateSt':'STATE', 'CertCert':'CERT', 'Acquiring InstitutionAI':'ACQUIRING_INST', 'Closing DateClosing':'CLOSE_DATE','FundFund' : 'FUND_NUM'})\n",
    "fbdf"
   ]
  },
  {
   "cell_type": "code",
   "execution_count": 4,
   "metadata": {},
   "outputs": [
    {
     "data": {
      "text/html": [
       "<div>\n",
       "<style scoped>\n",
       "    .dataframe tbody tr th:only-of-type {\n",
       "        vertical-align: middle;\n",
       "    }\n",
       "\n",
       "    .dataframe tbody tr th {\n",
       "        vertical-align: top;\n",
       "    }\n",
       "\n",
       "    .dataframe thead th {\n",
       "        text-align: right;\n",
       "    }\n",
       "</style>\n",
       "<table border=\"1\" class=\"dataframe\">\n",
       "  <thead>\n",
       "    <tr style=\"text-align: right;\">\n",
       "      <th></th>\n",
       "      <th>CERT</th>\n",
       "      <th>EST_LOSS</th>\n",
       "      <th>TOTAL_ASSETS</th>\n",
       "      <th>TOTAL_DEPOSITS</th>\n",
       "    </tr>\n",
       "  </thead>\n",
       "  <tbody>\n",
       "    <tr>\n",
       "      <th>0</th>\n",
       "      <td>15426</td>\n",
       "      <td>16806.0</td>\n",
       "      <td>65733</td>\n",
       "      <td>64941</td>\n",
       "    </tr>\n",
       "    <tr>\n",
       "      <th>1</th>\n",
       "      <td>16748</td>\n",
       "      <td>7247.0</td>\n",
       "      <td>136566</td>\n",
       "      <td>133936</td>\n",
       "    </tr>\n",
       "    <tr>\n",
       "      <th>2</th>\n",
       "      <td>14361</td>\n",
       "      <td>45913.0</td>\n",
       "      <td>151808</td>\n",
       "      <td>143102</td>\n",
       "    </tr>\n",
       "    <tr>\n",
       "      <th>3</th>\n",
       "      <td>18265</td>\n",
       "      <td>25293.0</td>\n",
       "      <td>100879</td>\n",
       "      <td>95159</td>\n",
       "    </tr>\n",
       "    <tr>\n",
       "      <th>4</th>\n",
       "      <td>21111</td>\n",
       "      <td>1946.0</td>\n",
       "      <td>120574</td>\n",
       "      <td>111234</td>\n",
       "    </tr>\n",
       "    <tr>\n",
       "      <th>...</th>\n",
       "      <td>...</td>\n",
       "      <td>...</td>\n",
       "      <td>...</td>\n",
       "      <td>...</td>\n",
       "    </tr>\n",
       "    <tr>\n",
       "      <th>576</th>\n",
       "      <td>338</td>\n",
       "      <td>14592.0</td>\n",
       "      <td>85485</td>\n",
       "      <td>77140</td>\n",
       "    </tr>\n",
       "    <tr>\n",
       "      <th>577</th>\n",
       "      <td>10985</td>\n",
       "      <td>1363.0</td>\n",
       "      <td>25942</td>\n",
       "      <td>26667</td>\n",
       "    </tr>\n",
       "    <tr>\n",
       "      <th>578</th>\n",
       "      <td>25056</td>\n",
       "      <td>617.0</td>\n",
       "      <td>7923</td>\n",
       "      <td>7680</td>\n",
       "    </tr>\n",
       "    <tr>\n",
       "      <th>579</th>\n",
       "      <td>27886</td>\n",
       "      <td>1322.0</td>\n",
       "      <td>31479</td>\n",
       "      <td>32234</td>\n",
       "    </tr>\n",
       "    <tr>\n",
       "      <th>580</th>\n",
       "      <td>14228</td>\n",
       "      <td>11574.0</td>\n",
       "      <td>105044</td>\n",
       "      <td>68549</td>\n",
       "    </tr>\n",
       "  </tbody>\n",
       "</table>\n",
       "<p>581 rows × 4 columns</p>\n",
       "</div>"
      ],
      "text/plain": [
       "      CERT  EST_LOSS  TOTAL_ASSETS  TOTAL_DEPOSITS\n",
       "0    15426   16806.0         65733           64941\n",
       "1    16748    7247.0        136566          133936\n",
       "2    14361   45913.0        151808          143102\n",
       "3    18265   25293.0        100879           95159\n",
       "4    21111    1946.0        120574          111234\n",
       "..     ...       ...           ...             ...\n",
       "576    338   14592.0         85485           77140\n",
       "577  10985    1363.0         25942           26667\n",
       "578  25056     617.0          7923            7680\n",
       "579  27886    1322.0         31479           32234\n",
       "580  14228   11574.0        105044           68549\n",
       "\n",
       "[581 rows x 4 columns]"
      ]
     },
     "execution_count": 4,
     "metadata": {},
     "output_type": "execute_result"
    }
   ],
   "source": [
    "#This Dataframe was created from the data in Data 2.\n",
    "#There are two dataframes because the first one was missing important columns such as est_loss, total_assets, and total_deposits, so I decided to merge the two.\n",
    "#Here, I drop useless columns from Dataframe 2, as well as renaming the existing columns to be more understandable. I kept the CERT column as an anchor to join the dataframes later.\n",
    "\n",
    "failed_bank_df2 = data2.drop(['CHCLASS1', 'CITYST', 'FIN', 'ID', 'NAME', 'RESTYPE1', 'SAVR', 'RESTYPE', 'FAILDATE'], axis = 1)\n",
    "fbdf2 = failed_bank_df2.rename(columns = {'COST':'EST_LOSS', 'QBFASSET':'TOTAL_ASSETS', 'QBFDEP' : 'TOTAL_DEPOSITS'})\n",
    "fbdf2"
   ]
  },
  {
   "cell_type": "code",
   "execution_count": 5,
   "metadata": {},
   "outputs": [
    {
     "data": {
      "text/html": [
       "<div>\n",
       "<style scoped>\n",
       "    .dataframe tbody tr th:only-of-type {\n",
       "        vertical-align: middle;\n",
       "    }\n",
       "\n",
       "    .dataframe tbody tr th {\n",
       "        vertical-align: top;\n",
       "    }\n",
       "\n",
       "    .dataframe thead th {\n",
       "        text-align: right;\n",
       "    }\n",
       "</style>\n",
       "<table border=\"1\" class=\"dataframe\">\n",
       "  <thead>\n",
       "    <tr style=\"text-align: right;\">\n",
       "      <th></th>\n",
       "      <th>BANK_NAME</th>\n",
       "      <th>CITY</th>\n",
       "      <th>STATE</th>\n",
       "      <th>CERT</th>\n",
       "      <th>ACQUIRING_INST</th>\n",
       "      <th>CLOSE_DATE</th>\n",
       "      <th>FUND_NUM</th>\n",
       "      <th>EST_LOSS</th>\n",
       "      <th>TOTAL_ASSETS</th>\n",
       "      <th>TOTAL_DEPOSITS</th>\n",
       "      <th>_merge</th>\n",
       "    </tr>\n",
       "  </thead>\n",
       "  <tbody>\n",
       "    <tr>\n",
       "      <th>0</th>\n",
       "      <td>Almena State Bank</td>\n",
       "      <td>Almena</td>\n",
       "      <td>KS</td>\n",
       "      <td>15426</td>\n",
       "      <td>Equity Bank</td>\n",
       "      <td>October 23, 2020</td>\n",
       "      <td>10538</td>\n",
       "      <td>16806.0</td>\n",
       "      <td>65733</td>\n",
       "      <td>64941</td>\n",
       "      <td>both</td>\n",
       "    </tr>\n",
       "    <tr>\n",
       "      <th>1</th>\n",
       "      <td>First City Bank of Florida</td>\n",
       "      <td>Fort Walton Beach</td>\n",
       "      <td>FL</td>\n",
       "      <td>16748</td>\n",
       "      <td>United Fidelity Bank, fsb</td>\n",
       "      <td>October 16, 2020</td>\n",
       "      <td>10537</td>\n",
       "      <td>7247.0</td>\n",
       "      <td>136566</td>\n",
       "      <td>133936</td>\n",
       "      <td>both</td>\n",
       "    </tr>\n",
       "    <tr>\n",
       "      <th>2</th>\n",
       "      <td>The First State Bank</td>\n",
       "      <td>Barboursville</td>\n",
       "      <td>WV</td>\n",
       "      <td>14361</td>\n",
       "      <td>MVB Bank, Inc.</td>\n",
       "      <td>April 3, 2020</td>\n",
       "      <td>10536</td>\n",
       "      <td>45913.0</td>\n",
       "      <td>151808</td>\n",
       "      <td>143102</td>\n",
       "      <td>both</td>\n",
       "    </tr>\n",
       "    <tr>\n",
       "      <th>3</th>\n",
       "      <td>Ericson State Bank</td>\n",
       "      <td>Ericson</td>\n",
       "      <td>NE</td>\n",
       "      <td>18265</td>\n",
       "      <td>Farmers and Merchants Bank</td>\n",
       "      <td>February 14, 2020</td>\n",
       "      <td>10535</td>\n",
       "      <td>25293.0</td>\n",
       "      <td>100879</td>\n",
       "      <td>95159</td>\n",
       "      <td>both</td>\n",
       "    </tr>\n",
       "    <tr>\n",
       "      <th>4</th>\n",
       "      <td>City National Bank of New Jersey</td>\n",
       "      <td>Newark</td>\n",
       "      <td>NJ</td>\n",
       "      <td>21111</td>\n",
       "      <td>Industrial Bank</td>\n",
       "      <td>November 1, 2019</td>\n",
       "      <td>10534</td>\n",
       "      <td>1946.0</td>\n",
       "      <td>120574</td>\n",
       "      <td>111234</td>\n",
       "      <td>both</td>\n",
       "    </tr>\n",
       "    <tr>\n",
       "      <th>...</th>\n",
       "      <td>...</td>\n",
       "      <td>...</td>\n",
       "      <td>...</td>\n",
       "      <td>...</td>\n",
       "      <td>...</td>\n",
       "      <td>...</td>\n",
       "      <td>...</td>\n",
       "      <td>...</td>\n",
       "      <td>...</td>\n",
       "      <td>...</td>\n",
       "      <td>...</td>\n",
       "    </tr>\n",
       "    <tr>\n",
       "      <th>558</th>\n",
       "      <td>Superior Bank, FSB</td>\n",
       "      <td>Hinsdale</td>\n",
       "      <td>IL</td>\n",
       "      <td>32646</td>\n",
       "      <td>Superior Federal, FSB</td>\n",
       "      <td>July 27, 2001</td>\n",
       "      <td>6004</td>\n",
       "      <td>286673.0</td>\n",
       "      <td>1765455</td>\n",
       "      <td>1609501</td>\n",
       "      <td>both</td>\n",
       "    </tr>\n",
       "    <tr>\n",
       "      <th>559</th>\n",
       "      <td>Malta National Bank</td>\n",
       "      <td>Malta</td>\n",
       "      <td>OH</td>\n",
       "      <td>6629</td>\n",
       "      <td>North Valley Bank</td>\n",
       "      <td>May 3, 2001</td>\n",
       "      <td>4648</td>\n",
       "      <td>769.0</td>\n",
       "      <td>9075</td>\n",
       "      <td>8728</td>\n",
       "      <td>both</td>\n",
       "    </tr>\n",
       "    <tr>\n",
       "      <th>560</th>\n",
       "      <td>First Alliance Bank &amp; Trust Co.</td>\n",
       "      <td>Manchester</td>\n",
       "      <td>NH</td>\n",
       "      <td>34264</td>\n",
       "      <td>Southern New Hampshire Bank &amp; Trust</td>\n",
       "      <td>February 2, 2001</td>\n",
       "      <td>4647</td>\n",
       "      <td>817.0</td>\n",
       "      <td>17438</td>\n",
       "      <td>16931</td>\n",
       "      <td>both</td>\n",
       "    </tr>\n",
       "    <tr>\n",
       "      <th>561</th>\n",
       "      <td>National State Bank of Metropolis</td>\n",
       "      <td>Metropolis</td>\n",
       "      <td>IL</td>\n",
       "      <td>3815</td>\n",
       "      <td>Banterra Bank of Marion</td>\n",
       "      <td>December 14, 2000</td>\n",
       "      <td>4646</td>\n",
       "      <td>2670.0</td>\n",
       "      <td>90397</td>\n",
       "      <td>71277</td>\n",
       "      <td>both</td>\n",
       "    </tr>\n",
       "    <tr>\n",
       "      <th>562</th>\n",
       "      <td>Bank of Honolulu</td>\n",
       "      <td>Honolulu</td>\n",
       "      <td>HI</td>\n",
       "      <td>21029</td>\n",
       "      <td>Bank of the Orient</td>\n",
       "      <td>October 13, 2000</td>\n",
       "      <td>4645</td>\n",
       "      <td>400.0</td>\n",
       "      <td>63890</td>\n",
       "      <td>59037</td>\n",
       "      <td>both</td>\n",
       "    </tr>\n",
       "  </tbody>\n",
       "</table>\n",
       "<p>563 rows × 11 columns</p>\n",
       "</div>"
      ],
      "text/plain": [
       "                             BANK_NAME               CITY STATE   CERT  \\\n",
       "0                    Almena State Bank             Almena    KS  15426   \n",
       "1           First City Bank of Florida  Fort Walton Beach    FL  16748   \n",
       "2                 The First State Bank      Barboursville    WV  14361   \n",
       "3                   Ericson State Bank            Ericson    NE  18265   \n",
       "4     City National Bank of New Jersey             Newark    NJ  21111   \n",
       "..                                 ...                ...   ...    ...   \n",
       "558                 Superior Bank, FSB           Hinsdale    IL  32646   \n",
       "559                Malta National Bank              Malta    OH   6629   \n",
       "560    First Alliance Bank & Trust Co.         Manchester    NH  34264   \n",
       "561  National State Bank of Metropolis         Metropolis    IL   3815   \n",
       "562                   Bank of Honolulu           Honolulu    HI  21029   \n",
       "\n",
       "                          ACQUIRING_INST         CLOSE_DATE  FUND_NUM  \\\n",
       "0                            Equity Bank   October 23, 2020     10538   \n",
       "1              United Fidelity Bank, fsb   October 16, 2020     10537   \n",
       "2                         MVB Bank, Inc.      April 3, 2020     10536   \n",
       "3             Farmers and Merchants Bank  February 14, 2020     10535   \n",
       "4                        Industrial Bank   November 1, 2019     10534   \n",
       "..                                   ...                ...       ...   \n",
       "558                Superior Federal, FSB      July 27, 2001      6004   \n",
       "559                    North Valley Bank        May 3, 2001      4648   \n",
       "560  Southern New Hampshire Bank & Trust   February 2, 2001      4647   \n",
       "561              Banterra Bank of Marion  December 14, 2000      4646   \n",
       "562                   Bank of the Orient   October 13, 2000      4645   \n",
       "\n",
       "     EST_LOSS  TOTAL_ASSETS  TOTAL_DEPOSITS _merge  \n",
       "0     16806.0         65733           64941   both  \n",
       "1      7247.0        136566          133936   both  \n",
       "2     45913.0        151808          143102   both  \n",
       "3     25293.0        100879           95159   both  \n",
       "4      1946.0        120574          111234   both  \n",
       "..        ...           ...             ...    ...  \n",
       "558  286673.0       1765455         1609501   both  \n",
       "559     769.0          9075            8728   both  \n",
       "560     817.0         17438           16931   both  \n",
       "561    2670.0         90397           71277   both  \n",
       "562     400.0         63890           59037   both  \n",
       "\n",
       "[563 rows x 11 columns]"
      ]
     },
     "execution_count": 5,
     "metadata": {},
     "output_type": "execute_result"
    }
   ],
   "source": [
    "#Merging both Dataframes on the CERT column. Now we can do some explortory analysis\n",
    "fbdf_all = fbdf.merge(fbdf2.drop_duplicates(), on=['CERT'], how='left', indicator=True)\n",
    "fbdf_all"
   ]
  },
  {
   "cell_type": "code",
   "execution_count": 6,
   "metadata": {},
   "outputs": [
    {
     "data": {
      "text/plain": [
       "GA    93\n",
       "FL    76\n",
       "IL    69\n",
       "CA    41\n",
       "MN    23\n",
       "WA    19\n",
       "AZ    16\n",
       "MO    16\n",
       "MI    14\n",
       "TX    13\n",
       "NV    12\n",
       "KS    11\n",
       "WI    11\n",
       "SC    10\n",
       "CO    10\n",
       "MD    10\n",
       "PA    10\n",
       "OH     9\n",
       "NJ     8\n",
       "UT     8\n",
       "NC     7\n",
       "AL     7\n",
       "OK     7\n",
       "TN     7\n",
       "OR     6\n",
       "VA     5\n",
       "NY     5\n",
       "PR     4\n",
       "AR     4\n",
       "LA     4\n",
       "NE     4\n",
       "NM     3\n",
       "IN     3\n",
       "KY     3\n",
       "WV     2\n",
       "IA     2\n",
       "MS     2\n",
       "CT     2\n",
       "ID     2\n",
       "MA     1\n",
       "SD     1\n",
       "WY     1\n",
       "NH     1\n",
       "HI     1\n",
       "Name: STATE, dtype: int64"
      ]
     },
     "execution_count": 6,
     "metadata": {},
     "output_type": "execute_result"
    }
   ],
   "source": [
    "#I want to see which cities had the most failed banks\n",
    "#To see this data, we can count the amount of times that a city shows up in this database, because each row is a unique bank.\n",
    "#Therefore, the amount of times a city shows up in this database is equivalent to the amount of banks that failed in that city\n",
    "\n",
    "fbdf_all['STATE'].value_counts()"
   ]
  },
  {
   "cell_type": "code",
   "execution_count": 13,
   "metadata": {},
   "outputs": [
    {
     "data": {
      "application/vnd.plotly.v1+json": {
       "config": {
        "plotlyServerURL": "https://plot.ly"
       },
       "data": [
        {
         "colorbar": {
          "title": {
           "text": "Brighter = More Closures"
          }
         },
         "colorscale": [
          [
           0,
           "rgb(75, 41, 145)"
          ],
          [
           0.16666666666666666,
           "rgb(135, 44, 162)"
          ],
          [
           0.3333333333333333,
           "rgb(192, 54, 157)"
          ],
          [
           0.5,
           "rgb(234, 79, 136)"
          ],
          [
           0.6666666666666666,
           "rgb(250, 120, 118)"
          ],
          [
           0.8333333333333334,
           "rgb(246, 169, 122)"
          ],
          [
           1,
           "rgb(237, 217, 163)"
          ]
         ],
         "locationmode": "USA-states",
         "locations": [
          "GA",
          "FL",
          "IL",
          "CA",
          "MN",
          "WA",
          "AZ",
          "MO",
          "MI",
          "TX",
          "NV",
          "KS",
          "WI",
          "SC",
          "CO",
          "MD",
          "PA",
          "OH",
          "NJ",
          "UT",
          "NC",
          "AL",
          "OK",
          "TN",
          "OR",
          "VA",
          "NY",
          "PR",
          "AR",
          "LA",
          "NE",
          "NM",
          "IN",
          "KY",
          "WV",
          "IA",
          "MS",
          "CT",
          "ID",
          "MA",
          "SD",
          "WY",
          "NH",
          "HI"
         ],
         "type": "choropleth",
         "z": [
          93,
          76,
          69,
          41,
          23,
          19,
          16,
          16,
          14,
          13,
          12,
          11,
          11,
          10,
          10,
          10,
          10,
          9,
          8,
          8,
          7,
          7,
          7,
          7,
          6,
          5,
          5,
          4,
          4,
          4,
          4,
          3,
          3,
          3,
          2,
          2,
          2,
          2,
          2,
          1,
          1,
          1,
          1,
          1
         ]
        }
       ],
       "layout": {
        "geo": {
         "scope": "usa"
        },
        "template": {
         "data": {
          "bar": [
           {
            "error_x": {
             "color": "#2a3f5f"
            },
            "error_y": {
             "color": "#2a3f5f"
            },
            "marker": {
             "line": {
              "color": "#E5ECF6",
              "width": 0.5
             },
             "pattern": {
              "fillmode": "overlay",
              "size": 10,
              "solidity": 0.2
             }
            },
            "type": "bar"
           }
          ],
          "barpolar": [
           {
            "marker": {
             "line": {
              "color": "#E5ECF6",
              "width": 0.5
             },
             "pattern": {
              "fillmode": "overlay",
              "size": 10,
              "solidity": 0.2
             }
            },
            "type": "barpolar"
           }
          ],
          "carpet": [
           {
            "aaxis": {
             "endlinecolor": "#2a3f5f",
             "gridcolor": "white",
             "linecolor": "white",
             "minorgridcolor": "white",
             "startlinecolor": "#2a3f5f"
            },
            "baxis": {
             "endlinecolor": "#2a3f5f",
             "gridcolor": "white",
             "linecolor": "white",
             "minorgridcolor": "white",
             "startlinecolor": "#2a3f5f"
            },
            "type": "carpet"
           }
          ],
          "choropleth": [
           {
            "colorbar": {
             "outlinewidth": 0,
             "ticks": ""
            },
            "type": "choropleth"
           }
          ],
          "contour": [
           {
            "colorbar": {
             "outlinewidth": 0,
             "ticks": ""
            },
            "colorscale": [
             [
              0,
              "#0d0887"
             ],
             [
              0.1111111111111111,
              "#46039f"
             ],
             [
              0.2222222222222222,
              "#7201a8"
             ],
             [
              0.3333333333333333,
              "#9c179e"
             ],
             [
              0.4444444444444444,
              "#bd3786"
             ],
             [
              0.5555555555555556,
              "#d8576b"
             ],
             [
              0.6666666666666666,
              "#ed7953"
             ],
             [
              0.7777777777777778,
              "#fb9f3a"
             ],
             [
              0.8888888888888888,
              "#fdca26"
             ],
             [
              1,
              "#f0f921"
             ]
            ],
            "type": "contour"
           }
          ],
          "contourcarpet": [
           {
            "colorbar": {
             "outlinewidth": 0,
             "ticks": ""
            },
            "type": "contourcarpet"
           }
          ],
          "heatmap": [
           {
            "colorbar": {
             "outlinewidth": 0,
             "ticks": ""
            },
            "colorscale": [
             [
              0,
              "#0d0887"
             ],
             [
              0.1111111111111111,
              "#46039f"
             ],
             [
              0.2222222222222222,
              "#7201a8"
             ],
             [
              0.3333333333333333,
              "#9c179e"
             ],
             [
              0.4444444444444444,
              "#bd3786"
             ],
             [
              0.5555555555555556,
              "#d8576b"
             ],
             [
              0.6666666666666666,
              "#ed7953"
             ],
             [
              0.7777777777777778,
              "#fb9f3a"
             ],
             [
              0.8888888888888888,
              "#fdca26"
             ],
             [
              1,
              "#f0f921"
             ]
            ],
            "type": "heatmap"
           }
          ],
          "heatmapgl": [
           {
            "colorbar": {
             "outlinewidth": 0,
             "ticks": ""
            },
            "colorscale": [
             [
              0,
              "#0d0887"
             ],
             [
              0.1111111111111111,
              "#46039f"
             ],
             [
              0.2222222222222222,
              "#7201a8"
             ],
             [
              0.3333333333333333,
              "#9c179e"
             ],
             [
              0.4444444444444444,
              "#bd3786"
             ],
             [
              0.5555555555555556,
              "#d8576b"
             ],
             [
              0.6666666666666666,
              "#ed7953"
             ],
             [
              0.7777777777777778,
              "#fb9f3a"
             ],
             [
              0.8888888888888888,
              "#fdca26"
             ],
             [
              1,
              "#f0f921"
             ]
            ],
            "type": "heatmapgl"
           }
          ],
          "histogram": [
           {
            "marker": {
             "pattern": {
              "fillmode": "overlay",
              "size": 10,
              "solidity": 0.2
             }
            },
            "type": "histogram"
           }
          ],
          "histogram2d": [
           {
            "colorbar": {
             "outlinewidth": 0,
             "ticks": ""
            },
            "colorscale": [
             [
              0,
              "#0d0887"
             ],
             [
              0.1111111111111111,
              "#46039f"
             ],
             [
              0.2222222222222222,
              "#7201a8"
             ],
             [
              0.3333333333333333,
              "#9c179e"
             ],
             [
              0.4444444444444444,
              "#bd3786"
             ],
             [
              0.5555555555555556,
              "#d8576b"
             ],
             [
              0.6666666666666666,
              "#ed7953"
             ],
             [
              0.7777777777777778,
              "#fb9f3a"
             ],
             [
              0.8888888888888888,
              "#fdca26"
             ],
             [
              1,
              "#f0f921"
             ]
            ],
            "type": "histogram2d"
           }
          ],
          "histogram2dcontour": [
           {
            "colorbar": {
             "outlinewidth": 0,
             "ticks": ""
            },
            "colorscale": [
             [
              0,
              "#0d0887"
             ],
             [
              0.1111111111111111,
              "#46039f"
             ],
             [
              0.2222222222222222,
              "#7201a8"
             ],
             [
              0.3333333333333333,
              "#9c179e"
             ],
             [
              0.4444444444444444,
              "#bd3786"
             ],
             [
              0.5555555555555556,
              "#d8576b"
             ],
             [
              0.6666666666666666,
              "#ed7953"
             ],
             [
              0.7777777777777778,
              "#fb9f3a"
             ],
             [
              0.8888888888888888,
              "#fdca26"
             ],
             [
              1,
              "#f0f921"
             ]
            ],
            "type": "histogram2dcontour"
           }
          ],
          "mesh3d": [
           {
            "colorbar": {
             "outlinewidth": 0,
             "ticks": ""
            },
            "type": "mesh3d"
           }
          ],
          "parcoords": [
           {
            "line": {
             "colorbar": {
              "outlinewidth": 0,
              "ticks": ""
             }
            },
            "type": "parcoords"
           }
          ],
          "pie": [
           {
            "automargin": true,
            "type": "pie"
           }
          ],
          "scatter": [
           {
            "fillpattern": {
             "fillmode": "overlay",
             "size": 10,
             "solidity": 0.2
            },
            "type": "scatter"
           }
          ],
          "scatter3d": [
           {
            "line": {
             "colorbar": {
              "outlinewidth": 0,
              "ticks": ""
             }
            },
            "marker": {
             "colorbar": {
              "outlinewidth": 0,
              "ticks": ""
             }
            },
            "type": "scatter3d"
           }
          ],
          "scattercarpet": [
           {
            "marker": {
             "colorbar": {
              "outlinewidth": 0,
              "ticks": ""
             }
            },
            "type": "scattercarpet"
           }
          ],
          "scattergeo": [
           {
            "marker": {
             "colorbar": {
              "outlinewidth": 0,
              "ticks": ""
             }
            },
            "type": "scattergeo"
           }
          ],
          "scattergl": [
           {
            "marker": {
             "colorbar": {
              "outlinewidth": 0,
              "ticks": ""
             }
            },
            "type": "scattergl"
           }
          ],
          "scattermapbox": [
           {
            "marker": {
             "colorbar": {
              "outlinewidth": 0,
              "ticks": ""
             }
            },
            "type": "scattermapbox"
           }
          ],
          "scatterpolar": [
           {
            "marker": {
             "colorbar": {
              "outlinewidth": 0,
              "ticks": ""
             }
            },
            "type": "scatterpolar"
           }
          ],
          "scatterpolargl": [
           {
            "marker": {
             "colorbar": {
              "outlinewidth": 0,
              "ticks": ""
             }
            },
            "type": "scatterpolargl"
           }
          ],
          "scatterternary": [
           {
            "marker": {
             "colorbar": {
              "outlinewidth": 0,
              "ticks": ""
             }
            },
            "type": "scatterternary"
           }
          ],
          "surface": [
           {
            "colorbar": {
             "outlinewidth": 0,
             "ticks": ""
            },
            "colorscale": [
             [
              0,
              "#0d0887"
             ],
             [
              0.1111111111111111,
              "#46039f"
             ],
             [
              0.2222222222222222,
              "#7201a8"
             ],
             [
              0.3333333333333333,
              "#9c179e"
             ],
             [
              0.4444444444444444,
              "#bd3786"
             ],
             [
              0.5555555555555556,
              "#d8576b"
             ],
             [
              0.6666666666666666,
              "#ed7953"
             ],
             [
              0.7777777777777778,
              "#fb9f3a"
             ],
             [
              0.8888888888888888,
              "#fdca26"
             ],
             [
              1,
              "#f0f921"
             ]
            ],
            "type": "surface"
           }
          ],
          "table": [
           {
            "cells": {
             "fill": {
              "color": "#EBF0F8"
             },
             "line": {
              "color": "white"
             }
            },
            "header": {
             "fill": {
              "color": "#C8D4E3"
             },
             "line": {
              "color": "white"
             }
            },
            "type": "table"
           }
          ]
         },
         "layout": {
          "annotationdefaults": {
           "arrowcolor": "#2a3f5f",
           "arrowhead": 0,
           "arrowwidth": 1
          },
          "autotypenumbers": "strict",
          "coloraxis": {
           "colorbar": {
            "outlinewidth": 0,
            "ticks": ""
           }
          },
          "colorscale": {
           "diverging": [
            [
             0,
             "#8e0152"
            ],
            [
             0.1,
             "#c51b7d"
            ],
            [
             0.2,
             "#de77ae"
            ],
            [
             0.3,
             "#f1b6da"
            ],
            [
             0.4,
             "#fde0ef"
            ],
            [
             0.5,
             "#f7f7f7"
            ],
            [
             0.6,
             "#e6f5d0"
            ],
            [
             0.7,
             "#b8e186"
            ],
            [
             0.8,
             "#7fbc41"
            ],
            [
             0.9,
             "#4d9221"
            ],
            [
             1,
             "#276419"
            ]
           ],
           "sequential": [
            [
             0,
             "#0d0887"
            ],
            [
             0.1111111111111111,
             "#46039f"
            ],
            [
             0.2222222222222222,
             "#7201a8"
            ],
            [
             0.3333333333333333,
             "#9c179e"
            ],
            [
             0.4444444444444444,
             "#bd3786"
            ],
            [
             0.5555555555555556,
             "#d8576b"
            ],
            [
             0.6666666666666666,
             "#ed7953"
            ],
            [
             0.7777777777777778,
             "#fb9f3a"
            ],
            [
             0.8888888888888888,
             "#fdca26"
            ],
            [
             1,
             "#f0f921"
            ]
           ],
           "sequentialminus": [
            [
             0,
             "#0d0887"
            ],
            [
             0.1111111111111111,
             "#46039f"
            ],
            [
             0.2222222222222222,
             "#7201a8"
            ],
            [
             0.3333333333333333,
             "#9c179e"
            ],
            [
             0.4444444444444444,
             "#bd3786"
            ],
            [
             0.5555555555555556,
             "#d8576b"
            ],
            [
             0.6666666666666666,
             "#ed7953"
            ],
            [
             0.7777777777777778,
             "#fb9f3a"
            ],
            [
             0.8888888888888888,
             "#fdca26"
            ],
            [
             1,
             "#f0f921"
            ]
           ]
          },
          "colorway": [
           "#636efa",
           "#EF553B",
           "#00cc96",
           "#ab63fa",
           "#FFA15A",
           "#19d3f3",
           "#FF6692",
           "#B6E880",
           "#FF97FF",
           "#FECB52"
          ],
          "font": {
           "color": "#2a3f5f"
          },
          "geo": {
           "bgcolor": "white",
           "lakecolor": "white",
           "landcolor": "#E5ECF6",
           "showlakes": true,
           "showland": true,
           "subunitcolor": "white"
          },
          "hoverlabel": {
           "align": "left"
          },
          "hovermode": "closest",
          "mapbox": {
           "style": "light"
          },
          "paper_bgcolor": "white",
          "plot_bgcolor": "#E5ECF6",
          "polar": {
           "angularaxis": {
            "gridcolor": "white",
            "linecolor": "white",
            "ticks": ""
           },
           "bgcolor": "#E5ECF6",
           "radialaxis": {
            "gridcolor": "white",
            "linecolor": "white",
            "ticks": ""
           }
          },
          "scene": {
           "xaxis": {
            "backgroundcolor": "#E5ECF6",
            "gridcolor": "white",
            "gridwidth": 2,
            "linecolor": "white",
            "showbackground": true,
            "ticks": "",
            "zerolinecolor": "white"
           },
           "yaxis": {
            "backgroundcolor": "#E5ECF6",
            "gridcolor": "white",
            "gridwidth": 2,
            "linecolor": "white",
            "showbackground": true,
            "ticks": "",
            "zerolinecolor": "white"
           },
           "zaxis": {
            "backgroundcolor": "#E5ECF6",
            "gridcolor": "white",
            "gridwidth": 2,
            "linecolor": "white",
            "showbackground": true,
            "ticks": "",
            "zerolinecolor": "white"
           }
          },
          "shapedefaults": {
           "line": {
            "color": "#2a3f5f"
           }
          },
          "ternary": {
           "aaxis": {
            "gridcolor": "white",
            "linecolor": "white",
            "ticks": ""
           },
           "baxis": {
            "gridcolor": "white",
            "linecolor": "white",
            "ticks": ""
           },
           "bgcolor": "#E5ECF6",
           "caxis": {
            "gridcolor": "white",
            "linecolor": "white",
            "ticks": ""
           }
          },
          "title": {
           "x": 0.05
          },
          "xaxis": {
           "automargin": true,
           "gridcolor": "white",
           "linecolor": "white",
           "ticks": "",
           "title": {
            "standoff": 15
           },
           "zerolinecolor": "white",
           "zerolinewidth": 2
          },
          "yaxis": {
           "automargin": true,
           "gridcolor": "white",
           "linecolor": "white",
           "ticks": "",
           "title": {
            "standoff": 15
           },
           "zerolinecolor": "white",
           "zerolinewidth": 2
          }
         }
        },
        "title": {
         "text": "Bank Closures by State"
        }
       }
      }
     },
     "metadata": {},
     "output_type": "display_data"
    },
    {
     "data": {
      "image/png": "[encoded data removed]",
      "text/plain": [
       "<IPython.core.display.Image object>"
      ]
     },
     "execution_count": 13,
     "metadata": {},
     "output_type": "execute_result"
    }
   ],
   "source": [
    "#Creating a choropleth object. \n",
    "\n",
    "choropleth_data = dict(\n",
    "            type = 'choropleth',\n",
    "            locations = fbdf_all['STATE'].value_counts().index,\n",
    "            locationmode = 'USA-states',\n",
    "            colorscale = 'agsunset',\n",
    "            z = fbdf_all['STATE'].value_counts(),\n",
    "            colorbar = {'title':'Brighter = More Closures'})\n",
    "\n",
    "#Creating layout object.\n",
    "layout = dict(title = 'Bank Closures by State', geo = {'scope':'usa'})\n",
    "\n",
    "#Creating Choromap object\n",
    "choromap = go.Figure(data = [choropleth_data],layout = layout)\n",
    "choromap.show()\n",
    "\n",
    "#Note: Interactive maps do not render when posted throuhg a Jupyter Notebook\n",
    "#This is just a png of what the map looks like.\n",
    "\n",
    "Image(filename = r\"C:\\Users\\Omar\\Downloads\\chloroplethmap.png\")"
   ]
  },
  {
   "cell_type": "code",
   "execution_count": null,
   "metadata": {},
   "outputs": [],
   "source": [
    "#Looking at this graph, there are a few instantly noticeable outliers. (Georgia 'GA', Florida 'FL', and California 'CA', FLorida 'FL', Georgia 'GA', and Illinois 'IL)\n",
    "\n",
    "#Florida and California having the highest number of bank failures makes sense,\n",
    "#as they are ranked way above the rest of the states in terms of population (around 21 million and 30 million respectively)\n",
    "\n",
    "#Georgia and Illinois are a different story, with Illinois having a pop of 12 million, and Georgia with 10 million.\n",
    "\n",
    "#They have half the population, but nearly double the bank closures of the state with the highest population\n",
    "\n",
    "#After some research, I found that the banks in Georgia failed due to a combination of factors.\n",
    "#One factor was the state's outdated law that favored small community banks over multi-branch giants.\n",
    "#This law shielded local banks from competition and resulted in a large number of banks in the state. \n",
    "#Another factor was the population growth in metro Atlanta, which spurred real estate development and the formation of new banks to profit from loans to developers. \n",
    "#However, when the housing market crashed, these banks were left vulnerable due to their concentration in the Atlanta area and their reliance on real estate development loans. \n",
    "#As a result, many of the banks failed.\n",
    "#SOURCE: https://abcnews.go.com/Business/story?id=7505042&page=1\n",
    "\n",
    "#As for Illinois, one reason may be that they just have a lot of banks.\n",
    "#According to FDIC records, Illinois had a higher number of bank failures compared to California, Texas, New York, and Florida combined, which had 1,082 banks.\n",
    "#This may be due in part to the fact that Illinois has a larger number of banks, with 536 operating in the state during the first half of the year."
   ]
  },
  {
   "cell_type": "code",
   "execution_count": null,
   "metadata": {},
   "outputs": [
    {
     "data": {
      "image/png": "[encoded data removed]",
      "text/plain": [
       "<Figure size 640x480 with 1 Axes>"
      ]
     },
     "metadata": {},
     "output_type": "display_data"
    }
   ],
   "source": [
    "#Plotting top 10 most bank closures.\n",
    "sns.set(rc={'axes.facecolor':'lightblue', 'figure.facecolor':'white'})\n",
    "closure_values = fbdf_all['STATE'].value_counts().head(10)\n",
    "scatterplot1 = sns.scatterplot(closure_values)\n",
    "scatterplot1.set_xlabel('State')\n",
    "scatterplot1.set_ylabel('Number of Bank Closures (2000 - 2020)')\n",
    "sns.set(rc={'axes.facecolor':'white', 'figure.facecolor':'white'})"
   ]
  },
  {
   "cell_type": "code",
   "execution_count": null,
   "metadata": {},
   "outputs": [
    {
     "data": {
      "text/html": [
       "<div>\n",
       "<style scoped>\n",
       "    .dataframe tbody tr th:only-of-type {\n",
       "        vertical-align: middle;\n",
       "    }\n",
       "\n",
       "    .dataframe tbody tr th {\n",
       "        vertical-align: top;\n",
       "    }\n",
       "\n",
       "    .dataframe thead th {\n",
       "        text-align: right;\n",
       "    }\n",
       "</style>\n",
       "<table border=\"1\" class=\"dataframe\">\n",
       "  <thead>\n",
       "    <tr style=\"text-align: right;\">\n",
       "      <th></th>\n",
       "      <th>BANK_NAME</th>\n",
       "      <th>CITY</th>\n",
       "      <th>STATE</th>\n",
       "      <th>CERT</th>\n",
       "      <th>ACQUIRING_INST</th>\n",
       "      <th>CLOSE_DATE</th>\n",
       "      <th>FUND_NUM</th>\n",
       "      <th>EST_LOSS</th>\n",
       "      <th>TOTAL_ASSETS</th>\n",
       "      <th>TOTAL_DEPOSITS</th>\n",
       "      <th>_merge</th>\n",
       "    </tr>\n",
       "  </thead>\n",
       "  <tbody>\n",
       "    <tr>\n",
       "      <th>0</th>\n",
       "      <td>Almena State Bank</td>\n",
       "      <td>Almena</td>\n",
       "      <td>KS</td>\n",
       "      <td>15426</td>\n",
       "      <td>Equity Bank</td>\n",
       "      <td>October 23, 2020</td>\n",
       "      <td>10538</td>\n",
       "      <td>16806.0</td>\n",
       "      <td>65733</td>\n",
       "      <td>64941</td>\n",
       "      <td>both</td>\n",
       "    </tr>\n",
       "    <tr>\n",
       "      <th>1</th>\n",
       "      <td>First City Bank of Florida</td>\n",
       "      <td>Fort Walton Beach</td>\n",
       "      <td>FL</td>\n",
       "      <td>16748</td>\n",
       "      <td>United Fidelity Bank, fsb</td>\n",
       "      <td>October 16, 2020</td>\n",
       "      <td>10537</td>\n",
       "      <td>7247.0</td>\n",
       "      <td>136566</td>\n",
       "      <td>133936</td>\n",
       "      <td>both</td>\n",
       "    </tr>\n",
       "    <tr>\n",
       "      <th>2</th>\n",
       "      <td>The First State Bank</td>\n",
       "      <td>Barboursville</td>\n",
       "      <td>WV</td>\n",
       "      <td>14361</td>\n",
       "      <td>MVB Bank, Inc.</td>\n",
       "      <td>April 3, 2020</td>\n",
       "      <td>10536</td>\n",
       "      <td>45913.0</td>\n",
       "      <td>151808</td>\n",
       "      <td>143102</td>\n",
       "      <td>both</td>\n",
       "    </tr>\n",
       "    <tr>\n",
       "      <th>3</th>\n",
       "      <td>Ericson State Bank</td>\n",
       "      <td>Ericson</td>\n",
       "      <td>NE</td>\n",
       "      <td>18265</td>\n",
       "      <td>Farmers and Merchants Bank</td>\n",
       "      <td>February 14, 2020</td>\n",
       "      <td>10535</td>\n",
       "      <td>25293.0</td>\n",
       "      <td>100879</td>\n",
       "      <td>95159</td>\n",
       "      <td>both</td>\n",
       "    </tr>\n",
       "    <tr>\n",
       "      <th>4</th>\n",
       "      <td>City National Bank of New Jersey</td>\n",
       "      <td>Newark</td>\n",
       "      <td>NJ</td>\n",
       "      <td>21111</td>\n",
       "      <td>Industrial Bank</td>\n",
       "      <td>November 1, 2019</td>\n",
       "      <td>10534</td>\n",
       "      <td>1946.0</td>\n",
       "      <td>120574</td>\n",
       "      <td>111234</td>\n",
       "      <td>both</td>\n",
       "    </tr>\n",
       "    <tr>\n",
       "      <th>...</th>\n",
       "      <td>...</td>\n",
       "      <td>...</td>\n",
       "      <td>...</td>\n",
       "      <td>...</td>\n",
       "      <td>...</td>\n",
       "      <td>...</td>\n",
       "      <td>...</td>\n",
       "      <td>...</td>\n",
       "      <td>...</td>\n",
       "      <td>...</td>\n",
       "      <td>...</td>\n",
       "    </tr>\n",
       "    <tr>\n",
       "      <th>558</th>\n",
       "      <td>Superior Bank, FSB</td>\n",
       "      <td>Hinsdale</td>\n",
       "      <td>IL</td>\n",
       "      <td>32646</td>\n",
       "      <td>Superior Federal, FSB</td>\n",
       "      <td>July 27, 2001</td>\n",
       "      <td>6004</td>\n",
       "      <td>286673.0</td>\n",
       "      <td>1765455</td>\n",
       "      <td>1609501</td>\n",
       "      <td>both</td>\n",
       "    </tr>\n",
       "    <tr>\n",
       "      <th>559</th>\n",
       "      <td>Malta National Bank</td>\n",
       "      <td>Malta</td>\n",
       "      <td>OH</td>\n",
       "      <td>6629</td>\n",
       "      <td>North Valley Bank</td>\n",
       "      <td>May 3, 2001</td>\n",
       "      <td>4648</td>\n",
       "      <td>769.0</td>\n",
       "      <td>9075</td>\n",
       "      <td>8728</td>\n",
       "      <td>both</td>\n",
       "    </tr>\n",
       "    <tr>\n",
       "      <th>560</th>\n",
       "      <td>First Alliance Bank &amp; Trust Co.</td>\n",
       "      <td>Manchester</td>\n",
       "      <td>NH</td>\n",
       "      <td>34264</td>\n",
       "      <td>Southern New Hampshire Bank &amp; Trust</td>\n",
       "      <td>February 2, 2001</td>\n",
       "      <td>4647</td>\n",
       "      <td>817.0</td>\n",
       "      <td>17438</td>\n",
       "      <td>16931</td>\n",
       "      <td>both</td>\n",
       "    </tr>\n",
       "    <tr>\n",
       "      <th>561</th>\n",
       "      <td>National State Bank of Metropolis</td>\n",
       "      <td>Metropolis</td>\n",
       "      <td>IL</td>\n",
       "      <td>3815</td>\n",
       "      <td>Banterra Bank of Marion</td>\n",
       "      <td>December 14, 2000</td>\n",
       "      <td>4646</td>\n",
       "      <td>2670.0</td>\n",
       "      <td>90397</td>\n",
       "      <td>71277</td>\n",
       "      <td>both</td>\n",
       "    </tr>\n",
       "    <tr>\n",
       "      <th>562</th>\n",
       "      <td>Bank of Honolulu</td>\n",
       "      <td>Honolulu</td>\n",
       "      <td>HI</td>\n",
       "      <td>21029</td>\n",
       "      <td>Bank of the Orient</td>\n",
       "      <td>October 13, 2000</td>\n",
       "      <td>4645</td>\n",
       "      <td>400.0</td>\n",
       "      <td>63890</td>\n",
       "      <td>59037</td>\n",
       "      <td>both</td>\n",
       "    </tr>\n",
       "  </tbody>\n",
       "</table>\n",
       "<p>563 rows × 11 columns</p>\n",
       "</div>"
      ],
      "text/plain": [
       "                             BANK_NAME               CITY STATE   CERT  \\\n",
       "0                    Almena State Bank             Almena    KS  15426   \n",
       "1           First City Bank of Florida  Fort Walton Beach    FL  16748   \n",
       "2                 The First State Bank      Barboursville    WV  14361   \n",
       "3                   Ericson State Bank            Ericson    NE  18265   \n",
       "4     City National Bank of New Jersey             Newark    NJ  21111   \n",
       "..                                 ...                ...   ...    ...   \n",
       "558                 Superior Bank, FSB           Hinsdale    IL  32646   \n",
       "559                Malta National Bank              Malta    OH   6629   \n",
       "560    First Alliance Bank & Trust Co.         Manchester    NH  34264   \n",
       "561  National State Bank of Metropolis         Metropolis    IL   3815   \n",
       "562                   Bank of Honolulu           Honolulu    HI  21029   \n",
       "\n",
       "                          ACQUIRING_INST         CLOSE_DATE  FUND_NUM  \\\n",
       "0                            Equity Bank   October 23, 2020     10538   \n",
       "1              United Fidelity Bank, fsb   October 16, 2020     10537   \n",
       "2                         MVB Bank, Inc.      April 3, 2020     10536   \n",
       "3             Farmers and Merchants Bank  February 14, 2020     10535   \n",
       "4                        Industrial Bank   November 1, 2019     10534   \n",
       "..                                   ...                ...       ...   \n",
       "558                Superior Federal, FSB      July 27, 2001      6004   \n",
       "559                    North Valley Bank        May 3, 2001      4648   \n",
       "560  Southern New Hampshire Bank & Trust   February 2, 2001      4647   \n",
       "561              Banterra Bank of Marion  December 14, 2000      4646   \n",
       "562                   Bank of the Orient   October 13, 2000      4645   \n",
       "\n",
       "     EST_LOSS  TOTAL_ASSETS  TOTAL_DEPOSITS _merge  \n",
       "0     16806.0         65733           64941   both  \n",
       "1      7247.0        136566          133936   both  \n",
       "2     45913.0        151808          143102   both  \n",
       "3     25293.0        100879           95159   both  \n",
       "4      1946.0        120574          111234   both  \n",
       "..        ...           ...             ...    ...  \n",
       "558  286673.0       1765455         1609501   both  \n",
       "559     769.0          9075            8728   both  \n",
       "560     817.0         17438           16931   both  \n",
       "561    2670.0         90397           71277   both  \n",
       "562     400.0         63890           59037   both  \n",
       "\n",
       "[563 rows x 11 columns]"
      ]
     },
     "execution_count": 9,
     "metadata": {},
     "output_type": "execute_result"
    }
   ],
   "source": [
    "#This is a large dataframe with tons of rows.\n",
    "#We can quickly grab specific columns based on ceratin conditions we can set.\n",
    "\n",
    "fbdf_all"
   ]
  },
  {
   "cell_type": "code",
   "execution_count": null,
   "metadata": {},
   "outputs": [
    {
     "data": {
      "text/html": [
       "<div>\n",
       "<style scoped>\n",
       "    .dataframe tbody tr th:only-of-type {\n",
       "        vertical-align: middle;\n",
       "    }\n",
       "\n",
       "    .dataframe tbody tr th {\n",
       "        vertical-align: top;\n",
       "    }\n",
       "\n",
       "    .dataframe thead th {\n",
       "        text-align: right;\n",
       "    }\n",
       "</style>\n",
       "<table border=\"1\" class=\"dataframe\">\n",
       "  <thead>\n",
       "    <tr style=\"text-align: right;\">\n",
       "      <th></th>\n",
       "      <th>BANK_NAME</th>\n",
       "      <th>CITY</th>\n",
       "      <th>STATE</th>\n",
       "      <th>CERT</th>\n",
       "      <th>ACQUIRING_INST</th>\n",
       "      <th>CLOSE_DATE</th>\n",
       "      <th>FUND_NUM</th>\n",
       "      <th>EST_LOSS</th>\n",
       "      <th>TOTAL_ASSETS</th>\n",
       "      <th>TOTAL_DEPOSITS</th>\n",
       "      <th>_merge</th>\n",
       "    </tr>\n",
       "  </thead>\n",
       "  <tbody>\n",
       "    <tr>\n",
       "      <th>531</th>\n",
       "      <td>IndyMac Bank</td>\n",
       "      <td>Pasadena</td>\n",
       "      <td>CA</td>\n",
       "      <td>29730</td>\n",
       "      <td>OneWest Bank, FSB</td>\n",
       "      <td>July 11, 2008</td>\n",
       "      <td>10007</td>\n",
       "      <td>12040084.0</td>\n",
       "      <td>30698512</td>\n",
       "      <td>18941727</td>\n",
       "      <td>both</td>\n",
       "    </tr>\n",
       "  </tbody>\n",
       "</table>\n",
       "</div>"
      ],
      "text/plain": [
       "        BANK_NAME      CITY STATE   CERT     ACQUIRING_INST     CLOSE_DATE  \\\n",
       "531  IndyMac Bank  Pasadena    CA  29730  OneWest Bank, FSB  July 11, 2008   \n",
       "\n",
       "     FUND_NUM    EST_LOSS  TOTAL_ASSETS  TOTAL_DEPOSITS _merge  \n",
       "531     10007  12040084.0      30698512        18941727   both  "
      ]
     },
     "execution_count": 10,
     "metadata": {},
     "output_type": "execute_result"
    }
   ],
   "source": [
    "#Bank in this dataframe which lost the most money.\n",
    "fbdf_all[fbdf_all['EST_LOSS'] == fbdf_all['EST_LOSS'].max()]"
   ]
  },
  {
   "cell_type": "code",
   "execution_count": null,
   "metadata": {},
   "outputs": [
    {
     "data": {
      "text/html": [
       "<div>\n",
       "<style scoped>\n",
       "    .dataframe tbody tr th:only-of-type {\n",
       "        vertical-align: middle;\n",
       "    }\n",
       "\n",
       "    .dataframe tbody tr th {\n",
       "        vertical-align: top;\n",
       "    }\n",
       "\n",
       "    .dataframe thead th {\n",
       "        text-align: right;\n",
       "    }\n",
       "</style>\n",
       "<table border=\"1\" class=\"dataframe\">\n",
       "  <thead>\n",
       "    <tr style=\"text-align: right;\">\n",
       "      <th></th>\n",
       "      <th>BANK_NAME</th>\n",
       "      <th>CITY</th>\n",
       "      <th>STATE</th>\n",
       "      <th>CERT</th>\n",
       "      <th>ACQUIRING_INST</th>\n",
       "      <th>CLOSE_DATE</th>\n",
       "      <th>FUND_NUM</th>\n",
       "      <th>EST_LOSS</th>\n",
       "      <th>TOTAL_ASSETS</th>\n",
       "      <th>TOTAL_DEPOSITS</th>\n",
       "      <th>_merge</th>\n",
       "    </tr>\n",
       "  </thead>\n",
       "  <tbody>\n",
       "    <tr>\n",
       "      <th>523</th>\n",
       "      <td>Washington Mutual Bank (Including its subsidia...</td>\n",
       "      <td>Henderson</td>\n",
       "      <td>NV</td>\n",
       "      <td>32633</td>\n",
       "      <td>JP Morgan Chase Bank</td>\n",
       "      <td>September 25, 2008</td>\n",
       "      <td>10015</td>\n",
       "      <td>0.0</td>\n",
       "      <td>307021614</td>\n",
       "      <td>188260793</td>\n",
       "      <td>both</td>\n",
       "    </tr>\n",
       "  </tbody>\n",
       "</table>\n",
       "</div>"
      ],
      "text/plain": [
       "                                             BANK_NAME       CITY STATE  \\\n",
       "523  Washington Mutual Bank (Including its subsidia...  Henderson    NV   \n",
       "\n",
       "      CERT        ACQUIRING_INST          CLOSE_DATE  FUND_NUM  EST_LOSS  \\\n",
       "523  32633  JP Morgan Chase Bank  September 25, 2008     10015       0.0   \n",
       "\n",
       "     TOTAL_ASSETS  TOTAL_DEPOSITS _merge  \n",
       "523     307021614       188260793   both  "
      ]
     },
     "execution_count": 11,
     "metadata": {},
     "output_type": "execute_result"
    }
   ],
   "source": [
    "#Bank in this dataframe which had the most assets at the time of its bankruptcy\n",
    "fbdf_all[fbdf_all['TOTAL_ASSETS'] == fbdf_all['TOTAL_ASSETS'].max()]"
   ]
  },
  {
   "cell_type": "code",
   "execution_count": null,
   "metadata": {},
   "outputs": [
    {
     "data": {
      "text/html": [
       "<div>\n",
       "<style scoped>\n",
       "    .dataframe tbody tr th:only-of-type {\n",
       "        vertical-align: middle;\n",
       "    }\n",
       "\n",
       "    .dataframe tbody tr th {\n",
       "        vertical-align: top;\n",
       "    }\n",
       "\n",
       "    .dataframe thead th {\n",
       "        text-align: right;\n",
       "    }\n",
       "</style>\n",
       "<table border=\"1\" class=\"dataframe\">\n",
       "  <thead>\n",
       "    <tr style=\"text-align: right;\">\n",
       "      <th></th>\n",
       "      <th>BANK_NAME</th>\n",
       "      <th>CITY</th>\n",
       "      <th>STATE</th>\n",
       "      <th>CERT</th>\n",
       "      <th>ACQUIRING_INST</th>\n",
       "      <th>CLOSE_DATE</th>\n",
       "      <th>FUND_NUM</th>\n",
       "      <th>EST_LOSS</th>\n",
       "      <th>TOTAL_ASSETS</th>\n",
       "      <th>TOTAL_DEPOSITS</th>\n",
       "      <th>_merge</th>\n",
       "    </tr>\n",
       "  </thead>\n",
       "  <tbody>\n",
       "    <tr>\n",
       "      <th>523</th>\n",
       "      <td>Washington Mutual Bank (Including its subsidia...</td>\n",
       "      <td>Henderson</td>\n",
       "      <td>NV</td>\n",
       "      <td>32633</td>\n",
       "      <td>JP Morgan Chase Bank</td>\n",
       "      <td>September 25, 2008</td>\n",
       "      <td>10015</td>\n",
       "      <td>0.0</td>\n",
       "      <td>307021614</td>\n",
       "      <td>188260793</td>\n",
       "      <td>both</td>\n",
       "    </tr>\n",
       "  </tbody>\n",
       "</table>\n",
       "</div>"
      ],
      "text/plain": [
       "                                             BANK_NAME       CITY STATE  \\\n",
       "523  Washington Mutual Bank (Including its subsidia...  Henderson    NV   \n",
       "\n",
       "      CERT        ACQUIRING_INST          CLOSE_DATE  FUND_NUM  EST_LOSS  \\\n",
       "523  32633  JP Morgan Chase Bank  September 25, 2008     10015       0.0   \n",
       "\n",
       "     TOTAL_ASSETS  TOTAL_DEPOSITS _merge  \n",
       "523     307021614       188260793   both  "
      ]
     },
     "execution_count": 12,
     "metadata": {},
     "output_type": "execute_result"
    }
   ],
   "source": [
    "#Bank in this dataframe which had the most deposits at the time of its bankruptcy\n",
    "fbdf_all[fbdf_all['TOTAL_DEPOSITS'] == fbdf_all['TOTAL_DEPOSITS'].max()]"
   ]
  },
  {
   "cell_type": "code",
   "execution_count": null,
   "metadata": {},
   "outputs": [
    {
     "data": {
      "text/plain": [
       "<AxesSubplot: xlabel='Years', ylabel='Months'>"
      ]
     },
     "execution_count": 13,
     "metadata": {},
     "output_type": "execute_result"
    },
    {
     "data": {
      "image/png": "[encoded data removed]",
      "text/plain": [
       "<Figure size 640x480 with 2 Axes>"
      ]
     },
     "metadata": {},
     "output_type": "display_data"
    }
   ],
   "source": [
    "#Now, I want to create a heatmap with the data from fbdf_all. The x-axis will be the years, the y-axis will be the months, and the values will be the est_loss of the banks.\n",
    "#There is an issue though, the value for the date in our dataframe is a string in the format \"day month, year\". We need to split these into the month and the year to plot them\n",
    "\n",
    "#To get the years, I split the value at the \",\". For October 23, 2000, this would return 2 values: 'October 23' and '2000'.\n",
    "# I went through all values and appended the year to a list called year_col\n",
    "\n",
    "#I did the same for the months, except I split the value on the space. 23 October, 2000 will return the values 'October', '23,' and '2000'.\n",
    "#I appended the first value, which always included the month, to the months_col.\n",
    "\n",
    "#I then merged the month col, year col, and est_loss col into a new dataframe which I created the heatmap with.\n",
    "\n",
    "\n",
    "\n",
    "#Splitting the CLOSE_DATE Column into months and years to more easily visualize. Create a mini dataframe with three lists and make a pivot table out of them. \n",
    "\n",
    "year_col = []\n",
    "month_col = []\n",
    "est_loss_col = []\n",
    "\n",
    "\n",
    "for value in fbdf_all['CLOSE_DATE']:\n",
    "    year_col.append(value.split(',')[1])\n",
    "\n",
    "for value in fbdf_all['CLOSE_DATE']:\n",
    "    month_col.append(value.split(' ')[0])\n",
    "\n",
    "for value in fbdf_all['EST_LOSS']:\n",
    "    est_loss_col.append((value))\n",
    "\n",
    "#Creating a Dataframe with our new year, month, and est_loss columns.\n",
    "df1 = pd.DataFrame({'Years': year_col, 'Months': month_col,'Est_Loss': est_loss_col})\n",
    "\n",
    "#Creating the heatmap. Note that Orange values are null, in which there were no bank closures in that time.\n",
    "sns.set(rc={'axes.facecolor':'orange'})\n",
    "\n",
    "heatmap_data = df1.pivot_table(index = 'Months', columns = 'Years', values = 'Est_Loss')\n",
    "\n",
    "sns.heatmap(heatmap_data, cmap = 'magma')"
   ]
  },
  {
   "cell_type": "code",
   "execution_count": null,
   "metadata": {},
   "outputs": [],
   "source": [
    "#From this data, we can see that banks closed much more frequently between the years of 2008-2013. \n",
    "#This is interensting, as this was the exact timeframe of the 2008 recession.\n",
    "#We have now have a visual indicator of the effects of this recession, and can accurately see the approximate start point and endpoint.\n",
    "#We also know this bank data is important and relevant, as the recession was caused by banks being stuck holding subprime mortgages, which ended up bankrupting them.\n",
    "#https://www.investopedia.com/articles/economics/09/financial-crisis-review.asp#:~:text=The%202008%20financial%20crisis%20began,their%20savings%2C%20and%20their%20homes."
   ]
  }
 ],
 "metadata": {
  "kernelspec": {
   "display_name": "Python 3.10.7 64-bit (microsoft store)",
   "language": "python",
   "name": "python3"
  },
  "language_info": {
   "codemirror_mode": {
    "name": "ipython",
    "version": 3
   },
   "file_extension": ".py",
   "mimetype": "text/x-python",
   "name": "python",
   "nbconvert_exporter": "python",
   "pygments_lexer": "ipython3",
   "version": "3.10.9"
  },
  "orig_nbformat": 4,
  "vscode": {
   "interpreter": {
    "hash": "f51c3b603dc04b12a29a7e3a20c4f1d1f9bdfb42887dd3a75d0915d6aa656e41"
   }
  }
 },
 "nbformat": 4,
 "nbformat_minor": 2
}
